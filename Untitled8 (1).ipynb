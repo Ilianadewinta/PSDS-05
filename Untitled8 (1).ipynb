{
  "nbformat": 4,
  "nbformat_minor": 0,
  "metadata": {
    "colab": {
      "provenance": []
    },
    "kernelspec": {
      "name": "python3",
      "display_name": "Python 3"
    },
    "language_info": {
      "name": "python"
    }
  },
  "cells": [
    {
      "cell_type": "markdown",
      "source": [
        "**OPERATOR**\n",
        "\n",
        "Operator simbol simbol yang dapat digunakan untuk mengubah nilai dari satu variabel dengan melibatkan satu atau lebih variabel dan literal.\n",
        "\n",
        "**Tipe-tipe operator :**\n",
        "\n",
        "Operator Aritmetka\n",
        "Operator Assignment\n",
        "Operator Pembanding\n",
        "Operator Logika\n",
        "Operator Membership\n",
        "Operator Aritmatika\n",
        "Operator Aritmatika digunakan untuk melakukan operasi matematika yang umum. Macam macam Operator Atmatika, yaitu :\n",
        "\n",
        "(+) : penjumlahan\n",
        "\n",
        "(-) : pengurangan\n",
        "\n",
        "(*) : perkalian\n",
        "\n",
        "(/) : pembagian\n",
        "\n",
        "(%) : modulus\n",
        "\n",
        "(**) : berpangkatan\n",
        "\n",
        "(//) : pembagian dengan hasil pembulatan flooring\n",
        "\n",
        "**Contoh Penggunaan Operator Aritmatika:**\n",
        "\n"
      ],
      "metadata": {
        "id": "xeao7BY8amld"
      }
    },
    {
      "cell_type": "code",
      "execution_count": 1,
      "metadata": {
        "colab": {
          "base_uri": "https://localhost:8080/"
        },
        "id": "nY4dj886ZDvM",
        "outputId": "e7ea7be0-6f66-441a-844d-264d2f88d2b9"
      },
      "outputs": [
        {
          "output_type": "stream",
          "name": "stdout",
          "text": [
            "penjumlahan\n",
            "4\n",
            "pengurangan\n",
            "--------------------\n",
            "-1\n",
            "perkalian\n",
            "--------------------\n",
            "6\n",
            "pembagian\n",
            "--------------------\n",
            "0.6666666666666666\n",
            "modulus\n",
            "--------------------\n",
            "1\n",
            "perpangkatan\n",
            "--------------------\n",
            "8\n",
            "pembagian pembulatan flooring\n",
            "--------------------\n",
            "1\n"
          ]
        }
      ],
      "source": [
        "#penjumlahan\n",
        "print ('penjumlahan')\n",
        "print (2+2)\n",
        "#pengurangan\n",
        "print ('pengurangan')\n",
        "print ('-'*20)\n",
        "print (2-3)\n",
        "#perkalian\n",
        "print ('perkalian')\n",
        "print ('-'*20)\n",
        "print (2*3)\n",
        "#pembagian\n",
        "print ('pembagian')\n",
        "print ('-'*20)\n",
        "print (2/3)\n",
        "#modulus\n",
        "print ('modulus')\n",
        "print ('-'*20)\n",
        "print (3%2)\n",
        "#perpangkatan\n",
        "print ('perpangkatan')\n",
        "print ('-'*20)\n",
        "print (2**3)\n",
        "#pembagian dengan hasil pembulatan flooring\n",
        "print ('pembagian pembulatan flooring')\n",
        "print ('-'*20)\n",
        "print (3//2)"
      ]
    },
    {
      "cell_type": "markdown",
      "source": [
        "**Latihan Operator 1**\n",
        "\n",
        "Buatlah Program penerapan operator Aritmatika dengan nilai - nilai yang berbeda dari contoh diatas"
      ],
      "metadata": {
        "id": "3UaVuHI6blAi"
      }
    },
    {
      "cell_type": "code",
      "source": [
        "#penjumlahan\n",
        "print ('penjumlahan')\n",
        "print (10+4)\n",
        "#pengurangan\n",
        "print ('pengurangan')\n",
        "print ('-'*20)\n",
        "print (14-1)\n",
        "#perkalian\n",
        "print ('perkalian')\n",
        "print ('-'*20)\n",
        "print (10*10)\n",
        "#pembagian\n",
        "print ('pembagian')\n",
        "print ('-'*20)\n",
        "print (100/2)\n",
        "#modulus\n",
        "print ('modulus')\n",
        "print ('-'*20)\n",
        "print (10%5)\n",
        "#perpangkatan\n",
        "print ('perpangkatan')\n",
        "print ('-'*20)\n",
        "print (2**12)\n",
        "#pembagian dengan hasil pembulatan flooring\n",
        "print ('pembagian pembulatan flooring')\n",
        "print ('-'*20)\n",
        "print (100//15)"
      ],
      "metadata": {
        "colab": {
          "base_uri": "https://localhost:8080/"
        },
        "id": "nGUU5j53bsLJ",
        "outputId": "8c13cb95-1f77-4d7f-9bc5-27b358ca66fe"
      },
      "execution_count": 2,
      "outputs": [
        {
          "output_type": "stream",
          "name": "stdout",
          "text": [
            "penjumlahan\n",
            "14\n",
            "pengurangan\n",
            "--------------------\n",
            "13\n",
            "perkalian\n",
            "--------------------\n",
            "100\n",
            "pembagian\n",
            "--------------------\n",
            "50.0\n",
            "modulus\n",
            "--------------------\n",
            "0\n",
            "perpangkatan\n",
            "--------------------\n",
            "4096\n",
            "pembagian pembulatan flooring\n",
            "--------------------\n",
            "6\n"
          ]
        }
      ]
    },
    {
      "cell_type": "markdown",
      "source": [
        "**Operator Assignment**\n",
        "\n",
        "Operator Assignment digunakan untuk menyimpan nilai menjadi suatu variabel\n",
        "\n",
        "**Contoh Penggunaan Operator Assignment:**"
      ],
      "metadata": {
        "id": "6LHv5Q-gcY5u"
      }
    },
    {
      "cell_type": "code",
      "source": [
        "#Penjumlahan\n",
        "print('Penjumlahan')\n",
        "x=5\n",
        "x=x+5\n",
        "print(x)\n",
        "x=5\n",
        "x+=5\n",
        "print(x)\n",
        "print('-'*20)\n",
        "\n",
        "#Pengurangan\n",
        "print ('Pengurangan')\n",
        "x=5\n",
        "x=x-5\n",
        "print(x)\n",
        "x=5\n",
        "x-=3\n",
        "print(x)\n",
        "print('-'*20)\n",
        "\n",
        "#Perkalian\n",
        "print('Perkalian')\n",
        "x=5\n",
        "x=x*5\n",
        "print(x)\n",
        "x=5\n",
        "x*=3\n",
        "print(x)\n",
        "print('-'*20)\n",
        "\n",
        "#Pembagian\n",
        "print('pembagian')\n",
        "x=5\n",
        "x=x/5\n",
        "print(x)\n",
        "x=5\n",
        "x/=3\n",
        "print (x)\n",
        "print('-'*20)\n",
        "\n",
        "#Modulus\n",
        "print('Modulus')\n",
        "x=5\n",
        "x=x%5\n",
        "print(x)\n",
        "x=5\n",
        "x%=3\n",
        "print(x)\n",
        "print('-'*20)\n",
        "\n",
        "#Pembagian Flooring\n",
        "print('Pembagian Flooring')\n",
        "x=5\n",
        "x=x//5\n",
        "print(x)\n",
        "x=5\n",
        "x//=3\n",
        "print(x)\n",
        "print('-'*20)\n",
        "\n",
        "#Perpangkatan\n",
        "print('Perpangkatan')\n",
        "x=5\n",
        "x=x**5\n",
        "print(x)\n",
        "x=5\n",
        "x**=3\n",
        "print(x)\n",
        "print('-'*20)"
      ],
      "metadata": {
        "colab": {
          "base_uri": "https://localhost:8080/"
        },
        "id": "MQFlnqN3czPt",
        "outputId": "c944237f-9c57-41cb-be43-106c7260967c"
      },
      "execution_count": 3,
      "outputs": [
        {
          "output_type": "stream",
          "name": "stdout",
          "text": [
            "Penjumlahan\n",
            "10\n",
            "10\n",
            "--------------------\n",
            "Pengurangan\n",
            "0\n",
            "2\n",
            "--------------------\n",
            "Perkalian\n",
            "25\n",
            "15\n",
            "--------------------\n",
            "pembagian\n",
            "1.0\n",
            "1.6666666666666667\n",
            "--------------------\n",
            "Modulus\n",
            "0\n",
            "2\n",
            "--------------------\n",
            "Pembagian Flooring\n",
            "1\n",
            "1\n",
            "--------------------\n",
            "Perpangkatan\n",
            "3125\n",
            "125\n",
            "--------------------\n"
          ]
        }
      ]
    },
    {
      "cell_type": "markdown",
      "source": [
        "**Latihan Operator 2**\n",
        "\n",
        "Buatlah program penerapan operator assignment dengan nilai nilai yang berbeda dari contoh diatas\n",
        "\n"
      ],
      "metadata": {
        "id": "8ipLrzhMdDyi"
      }
    },
    {
      "cell_type": "code",
      "source": [
        "#Penjumlahan\n",
        "print('Penjumlahan')\n",
        "x=10\n",
        "x=x+5\n",
        "print(x)\n",
        "x=100\n",
        "x+=500\n",
        "print(x)\n",
        "print('-'*20)\n",
        "\n",
        "#Pengurangan\n",
        "print ('Pengurangan')\n",
        "x=1000\n",
        "x=x-999\n",
        "print(x)\n",
        "x=7\n",
        "x-=6\n",
        "print(x)\n",
        "print('-'*20)\n",
        "\n",
        "#Perkalian\n",
        "print('Perkalian')\n",
        "x=90\n",
        "x=x*0\n",
        "print(x)\n",
        "x=8\n",
        "x*=8\n",
        "print(x)\n",
        "print('-'*20)\n",
        "\n",
        "#Pembagian\n",
        "print('pembagian')\n",
        "x=50\n",
        "x=x/5\n",
        "print(x)\n",
        "x=15\n",
        "x/=3\n",
        "print (x)\n",
        "print('-'*20)\n",
        "\n",
        "#Modulus\n",
        "print('Modulus')\n",
        "x=15\n",
        "x=x%8\n",
        "print(x)\n",
        "x=10\n",
        "x%=9\n",
        "print(x)\n",
        "print('-'*20)\n",
        "\n",
        "#Pembagian Flooring\n",
        "print('Pembagian Flooring')\n",
        "x=2\n",
        "x=x//6\n",
        "print(x)\n",
        "x=2\n",
        "x//=2\n",
        "print(x)\n",
        "print('-'*20)\n",
        "\n",
        "#Perpangkatan\n",
        "print('Perpangkatan')\n",
        "x=3\n",
        "x=x**15\n",
        "print(x)\n",
        "x=3\n",
        "x**=5\n",
        "print(x)\n",
        "print('-'*20)\n",
        ""
      ],
      "metadata": {
        "colab": {
          "base_uri": "https://localhost:8080/"
        },
        "id": "wa-qVS4RdJ5A",
        "outputId": "2901a7e0-f1de-4e4d-a17a-52587df02113"
      },
      "execution_count": 4,
      "outputs": [
        {
          "output_type": "stream",
          "name": "stdout",
          "text": [
            "Penjumlahan\n",
            "15\n",
            "600\n",
            "--------------------\n",
            "Pengurangan\n",
            "1\n",
            "1\n",
            "--------------------\n",
            "Perkalian\n",
            "0\n",
            "64\n",
            "--------------------\n",
            "pembagian\n",
            "10.0\n",
            "5.0\n",
            "--------------------\n",
            "Modulus\n",
            "7\n",
            "1\n",
            "--------------------\n",
            "Pembagian Flooring\n",
            "0\n",
            "1\n",
            "--------------------\n",
            "Perpangkatan\n",
            "14348907\n",
            "243\n",
            "--------------------\n"
          ]
        }
      ]
    },
    {
      "cell_type": "markdown",
      "source": [
        "**Operator Pembanding**\n",
        "\n",
        "Operator Pembanding digunakan untuk membandingkan 2 nilai atau variabel"
      ],
      "metadata": {
        "id": "9cnUweMldorM"
      }
    },
    {
      "cell_type": "code",
      "source": [
        "print(2==2)\n",
        "print(2!=2)\n",
        "print(2>2)\n",
        "print(2<2)\n",
        "print(2>=2)\n",
        "print(2<=2)"
      ],
      "metadata": {
        "colab": {
          "base_uri": "https://localhost:8080/"
        },
        "id": "TMg0OyJldw5P",
        "outputId": "7527ab02-1271-4dfc-bf8e-2d36ead122a4"
      },
      "execution_count": 5,
      "outputs": [
        {
          "output_type": "stream",
          "name": "stdout",
          "text": [
            "True\n",
            "False\n",
            "False\n",
            "False\n",
            "True\n",
            "True\n"
          ]
        }
      ]
    },
    {
      "cell_type": "markdown",
      "source": [
        "**Latihan Operator 3**\n",
        "\n",
        "Buatlah program penerapan operator pembanding dengan nilai nilai yang berbeda dari contoh diatas"
      ],
      "metadata": {
        "id": "VJDpMCTleGPN"
      }
    },
    {
      "cell_type": "code",
      "source": [
        "print(1==1)\n",
        "print(3!=1)\n",
        "print(3>4)\n",
        "print(5<6)\n",
        "print(3>=4)\n",
        "print(3<=4)"
      ],
      "metadata": {
        "colab": {
          "base_uri": "https://localhost:8080/"
        },
        "id": "ILuPsVYpePK4",
        "outputId": "c2be8d07-32ab-4e2c-fe6d-ce0aa9108d20"
      },
      "execution_count": 8,
      "outputs": [
        {
          "output_type": "stream",
          "name": "stdout",
          "text": [
            "True\n",
            "True\n",
            "False\n",
            "True\n",
            "False\n",
            "True\n"
          ]
        }
      ]
    },
    {
      "cell_type": "markdown",
      "source": [
        "**Operator Logika**\n",
        "\n",
        "Operator logika digunakan untuk mengkombinasikan statement statement kondisional Macam macam opertaor logika:\n",
        "\n",
        "and -> kondisi menjadi benar apabila semua statementnya benar\n",
        "\n",
        "or -> kondisi menjadi benar apabila salah satu statementnya ada yang benar\n",
        "\n",
        "not -> membalik hasil adri benar ke salah dan salah ke benar\n",
        "\n",
        "Contoh penggunaan operator logika"
      ],
      "metadata": {
        "id": "4D8-HeDaeaqV"
      }
    },
    {
      "cell_type": "code",
      "source": [
        "print(True and False)\n",
        "print(False or False)\n",
        "print(not False and True)"
      ],
      "metadata": {
        "colab": {
          "base_uri": "https://localhost:8080/"
        },
        "id": "XrxYSxOGesGJ",
        "outputId": "7f53a4b9-909b-4390-f8eb-dd674a1c1e66"
      },
      "execution_count": 9,
      "outputs": [
        {
          "output_type": "stream",
          "name": "stdout",
          "text": [
            "False\n",
            "False\n",
            "True\n"
          ]
        }
      ]
    },
    {
      "cell_type": "markdown",
      "source": [
        "**Latihan Operator 4**\n",
        "\n",
        "Buatlah program penerapan operator logika dengan nilai nilai yang berbeda dari contoh diatas\n",
        "\n"
      ],
      "metadata": {
        "id": "H-eijeZ0fFVK"
      }
    },
    {
      "cell_type": "code",
      "source": [
        "print(True and True)\n",
        "print(True or False)\n",
        "print(not True and True)"
      ],
      "metadata": {
        "colab": {
          "base_uri": "https://localhost:8080/"
        },
        "id": "yTS23BVffHe1",
        "outputId": "47a2ad45-99a9-4e29-d2b5-6dde3237d9eb"
      },
      "execution_count": 10,
      "outputs": [
        {
          "output_type": "stream",
          "name": "stdout",
          "text": [
            "True\n",
            "True\n",
            "False\n"
          ]
        }
      ]
    },
    {
      "cell_type": "markdown",
      "source": [
        "**Operator Membership / Keanggotaan**\n",
        "\n",
        "Operator keanggotaan digunakan untuk menguji apakah urutan disajikan dalam suatu objek\n",
        "\n",
        "Macam macam operator Keanggotaan :\n",
        "\n",
        "in -> return True ketika nilai tertentu dalam sebuah urutan ada\n",
        "\n",
        "not in > return True ketika nilai tertentu dalam sebuah uruta tidak ada\n",
        "\n",
        "Contoh penggunaan operator keanggotaan"
      ],
      "metadata": {
        "id": "Bnb69Gq8fOnW"
      }
    },
    {
      "cell_type": "code",
      "source": [
        "a=(1,2,3,4,5,6)\n",
        "b=2\n",
        "print(b in a)\n",
        "\n",
        "\n",
        "print('-'*20)\n",
        "a=(1,2,3,4,5,6)\n",
        "b=7\n",
        "print(b not in a)"
      ],
      "metadata": {
        "colab": {
          "base_uri": "https://localhost:8080/"
        },
        "id": "GAqvuEvffmIG",
        "outputId": "aab743f1-d868-4644-a45e-4616bbffba8e"
      },
      "execution_count": 11,
      "outputs": [
        {
          "output_type": "stream",
          "name": "stdout",
          "text": [
            "True\n",
            "--------------------\n",
            "True\n"
          ]
        }
      ]
    },
    {
      "cell_type": "markdown",
      "source": [
        "**Latihan Operator 5**\n",
        "\n",
        "Buatlah program penerapan operator keanggotaan membership dengan nilai nilai yang berbeda dari contoh diatas"
      ],
      "metadata": {
        "id": "dAvj22gifpXT"
      }
    },
    {
      "cell_type": "code",
      "source": [
        "a=(1,2,3,4,5,6,7,8,9)\n",
        "b=5\n",
        "print(b in a)\n",
        "\n",
        "\n",
        "print('-'*20)\n",
        "a=(1,2,3,4,5,6,7,8,9)\n",
        "b=3\n",
        "print(b not in a)"
      ],
      "metadata": {
        "colab": {
          "base_uri": "https://localhost:8080/"
        },
        "id": "jqcQgI9afuME",
        "outputId": "183721fe-43fb-4dc2-a457-e52ce057ab6d"
      },
      "execution_count": 12,
      "outputs": [
        {
          "output_type": "stream",
          "name": "stdout",
          "text": [
            "True\n",
            "--------------------\n",
            "False\n"
          ]
        }
      ]
    },
    {
      "cell_type": "markdown",
      "source": [
        "**Variabel**\n",
        "\n",
        "Variabel: Lokal penyimpanan yang dapat digunakan untuk menampung sebuah data atau informasi. Syarat syarat penamaan variabel\n",
        "\n",
        "1. Karakter - karakter yang digunakan untuk penamaan variable adalah alphabet, angka dan underscore.\n",
        "\n",
        "2. Karakter pertama variabel harus berupa huruf atau garis bawah/underscore, dan tidak bisa berupa angka\n",
        "\n",
        "3. Nama sebuah variabel tidak bisa menggunakan keyword atau reserved words dari bahasa python seperti for, if dan lainnya\n",
        "\n",
        "4. Karakter pada nama variabel bersifat sensitif (case-sensitif)"
      ],
      "metadata": {
        "id": "vN-FId_Af0wI"
      }
    },
    {
      "cell_type": "code",
      "source": [
        "# membuat variabel\n",
        "kalimat ='ini adalah variabel'\n",
        "bilangan1 = 4\n",
        "bilangan2 = 2.5\n",
        "bilangan3 = True\n",
        "bilangan4 = 1j + 4\n",
        "\n",
        "# menampilkan variabel\n",
        "print(kalimat)\n",
        "print(bilangan1)\n",
        "print(bilangan2)\n",
        "print(bilangan3)\n",
        "print(bilangan4)"
      ],
      "metadata": {
        "colab": {
          "base_uri": "https://localhost:8080/"
        },
        "id": "FjF-_0pUgAOc",
        "outputId": "c69e0b30-a0a2-4f75-d191-f37875350b7a"
      },
      "execution_count": 17,
      "outputs": [
        {
          "output_type": "stream",
          "name": "stdout",
          "text": [
            "ini adalah variabel\n",
            "4\n",
            "2.5\n",
            "True\n",
            "(4+1j)\n"
          ]
        }
      ]
    },
    {
      "cell_type": "markdown",
      "source": [
        "**Latihan 1**\n",
        "\n",
        "buatlah 5 variabel kalian sendiri dengan 5 macam tipe data lalu tampilkan variabel menggunakan fungsi print"
      ],
      "metadata": {
        "id": "YyaipNajgF5T"
      }
    },
    {
      "cell_type": "code",
      "source": [
        "# membuat variabel\n",
        "kalimat ='aku ganteng'\n",
        "bilangan1 = 20 + 22j\n",
        "bilangan2 = 14.4\n",
        "bilangan3 = 2023\n",
        "bilangan4 = True\n",
        "\n",
        "# menampilkan variabel\n",
        "print(kalimat)\n",
        "print(bilangan1)\n",
        "print(bilangan2)\n",
        "print(bilangan3)\n",
        "print(bilangan4)"
      ],
      "metadata": {
        "colab": {
          "base_uri": "https://localhost:8080/"
        },
        "id": "mRH2J-tQgOGc",
        "outputId": "66925d13-a003-4e23-974d-57d5e1624bd1"
      },
      "execution_count": 18,
      "outputs": [
        {
          "output_type": "stream",
          "name": "stdout",
          "text": [
            "aku ganteng\n",
            "(20+22j)\n",
            "14.4\n",
            "2023\n",
            "True\n"
          ]
        }
      ]
    },
    {
      "cell_type": "markdown",
      "source": [
        "**Tipe Data & Konversi Tipe Data**\n",
        "\n",
        "Tipe data\n",
        "\n",
        "5 tipe data yaitu:\n",
        "\n",
        "1. Integr atau bilangan bulat\n",
        "\n",
        "2. Float atau bilangan desimal\n",
        "\n",
        "3. string atau kalimat\n",
        "\n",
        "4. Boolean yang terdiri dari True dan False\n",
        "\n",
        "5. Complex yang merupakan bilangan kompleks"
      ],
      "metadata": {
        "id": "tukAyMPjgUL5"
      }
    },
    {
      "cell_type": "code",
      "source": [
        "# menampilkan tipe data\n",
        "print(type(kalimat))\n",
        "print(type(bilangan1))\n",
        "print(type(bilangan2))\n",
        "print(type(bilangan3))\n",
        "print(type(bilangan4))"
      ],
      "metadata": {
        "colab": {
          "base_uri": "https://localhost:8080/"
        },
        "id": "5iLygSllgjg7",
        "outputId": "746c3633-03a0-419c-8ea1-aa17ae13d8ed"
      },
      "execution_count": 19,
      "outputs": [
        {
          "output_type": "stream",
          "name": "stdout",
          "text": [
            "<class 'str'>\n",
            "<class 'complex'>\n",
            "<class 'float'>\n",
            "<class 'int'>\n",
            "<class 'bool'>\n"
          ]
        }
      ]
    },
    {
      "cell_type": "markdown",
      "source": [
        "**Konversi Tipe Data**"
      ],
      "metadata": {
        "id": "dZVGWaVtgo4K"
      }
    },
    {
      "cell_type": "code",
      "source": [
        "# konversi tipe data integer\n",
        "print(int(bilangan2))\n",
        "print(int(bilangan3))\n",
        "\n",
        "\n",
        "# konversi tipe data string\n",
        "print(str(bilangan1))\n",
        "print(str(bilangan2))\n",
        "print(str(bilangan3))\n",
        "\n",
        "# konversi tipe data bool\n",
        "print(bool(bilangan1))\n",
        "print(bool(bilangan2))\n",
        "\n",
        "# konversi tipe data complex\n",
        "print(complex(bilangan1))\n",
        "print(complex(bilangan2))\n",
        "print(complex(bilangan3))"
      ],
      "metadata": {
        "colab": {
          "base_uri": "https://localhost:8080/"
        },
        "id": "cOa0dOf0gskx",
        "outputId": "feb89969-d5d7-4742-f39e-88bf1ddf4fad"
      },
      "execution_count": 21,
      "outputs": [
        {
          "output_type": "stream",
          "name": "stdout",
          "text": [
            "14\n",
            "2023\n",
            "(20+22j)\n",
            "14.4\n",
            "2023\n",
            "True\n",
            "True\n",
            "(20+22j)\n",
            "(14.4+0j)\n",
            "(2023+0j)\n"
          ]
        }
      ]
    },
    {
      "cell_type": "markdown",
      "source": [
        "**Latihan 3**\n",
        "\n",
        "konversi tipe data yang telah kalian buat menjadi berbagai macam tipe data"
      ],
      "metadata": {
        "id": "9VnaPCVphSqU"
      }
    },
    {
      "cell_type": "code",
      "source": [
        "# konversi tipe data integer\n",
        "print(int(bilangan3))\n",
        "print(int(bilangan4))\n",
        "\n",
        "# konversi tipe data float\n",
        "print(float(bilangan2))\n",
        "print(float(bilangan4))\n",
        "\n",
        "# konversi tipe data string\n",
        "print(str(bilangan1))\n",
        "print(str(bilangan2))\n",
        "print(str(bilangan3))\n",
        "\n",
        "# konversi tipe data bool\n",
        "print(bool(bilangan1))\n",
        "print(bool(bilangan2))\n",
        "\n",
        "# konversi tipe data complex\n",
        "print(complex(bilangan1))\n",
        "print(complex(bilangan2))\n",
        "print(complex(bilangan3))"
      ],
      "metadata": {
        "colab": {
          "base_uri": "https://localhost:8080/"
        },
        "id": "-fn9q60ThWXF",
        "outputId": "93f7c138-2d98-430d-91b0-2f36db5450c4"
      },
      "execution_count": 22,
      "outputs": [
        {
          "output_type": "stream",
          "name": "stdout",
          "text": [
            "2023\n",
            "1\n",
            "14.4\n",
            "1.0\n",
            "(20+22j)\n",
            "14.4\n",
            "2023\n",
            "True\n",
            "True\n",
            "(20+22j)\n",
            "(14.4+0j)\n",
            "(2023+0j)\n"
          ]
        }
      ]
    }
  ]
}