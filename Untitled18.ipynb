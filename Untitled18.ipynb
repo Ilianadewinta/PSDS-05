{
  "nbformat": 4,
  "nbformat_minor": 0,
  "metadata": {
    "colab": {
      "provenance": []
    },
    "kernelspec": {
      "name": "python3",
      "display_name": "Python 3"
    },
    "language_info": {
      "name": "python"
    }
  },
  "cells": [
    {
      "cell_type": "markdown",
      "source": [
        "**Nama : Iliana Dewinta**\n",
        "\n",
        "**NIM : 2100015054**"
      ],
      "metadata": {
        "id": "m2Uh6RFE_nOX"
      }
    },
    {
      "cell_type": "markdown",
      "source": [
        "> **PENGENALAN PYTHON**"
      ],
      "metadata": {
        "id": "es8_4lrGB98-"
      }
    },
    {
      "cell_type": "markdown",
      "source": [
        "Phyton adalah Bahasa pemrograman tingkat tinggi dengan dynamic semantics, bersifat object\n",
        "oriented, dan interpretatif. Bahasa pemrograman ini fokus dikembangkan pada keterbacaan\n",
        "bahasa pemrograman.\n",
        "\n",
        "1. Bahasa Pemrograman Tingkat Tinggi (High Level Programming) Artinya sintaks kode\n",
        "lebih mudah ditafsirkan oleh manusia.\n",
        "2. Interpretatif Ini artinya bahasa ini memerlukan intrepeter atau penerjemah. Ini\n",
        "memungkinkan kita untuk menggunakan Bahasa yang lebih mudah kita pahami.\n",
        "3. Object Oriented Ini berarti bahwa bahasa pemrograman ini berorientasi kepada objek. Hal\n",
        "ini membuat Phyton lebih mudah untuk dikembangkan.\n",
        "4. Dynamic Semantic Phyton secara otomatis akan menyesuaikan tipe dari suatu variable\n",
        "berdasarkan inputnya.\n",
        "\n",
        "Keunggulan Python :\n",
        "\n",
        "1. Mudah dipahami\n",
        "2. Grafis & Open Source\n",
        "3. Dinamis\n",
        "4. Memiliki Library Terlengkap untuk Data Sains\n"
      ],
      "metadata": {
        "id": "4oYGMLwOCNuW"
      }
    },
    {
      "cell_type": "markdown",
      "source": [
        "> PROGRAM PADA PYTHON\n",
        "\n",
        "\n"
      ],
      "metadata": {
        "id": "Pfm13yTU_3Xa"
      }
    },
    {
      "cell_type": "markdown",
      "source": [
        "1. Statement"
      ],
      "metadata": {
        "id": "nktr9IjDAChu"
      }
    },
    {
      "cell_type": "code",
      "execution_count": 1,
      "metadata": {
        "colab": {
          "base_uri": "https://localhost:8080/"
        },
        "id": "DCTx5fZw_J2X",
        "outputId": "bf28a9d6-4108-4f37-b1a8-382e7989e008"
      },
      "outputs": [
        {
          "output_type": "stream",
          "name": "stdout",
          "text": [
            "Belajar Python Menyenangkan\n",
            "Halo Dunia\n"
          ]
        }
      ],
      "source": [
        "print ('Belajar Python Menyenangkan')\n",
        "print ('Halo Dunia')"
      ]
    },
    {
      "cell_type": "markdown",
      "source": [
        "2. Variabels"
      ],
      "metadata": {
        "id": "2aXJNHMbAX4m"
      }
    },
    {
      "cell_type": "code",
      "source": [
        "a = 5\n",
        "b = 10\n",
        "c = 'Pejuang Data 3'"
      ],
      "metadata": {
        "id": "fDUTedAIAaOf"
      },
      "execution_count": 2,
      "outputs": []
    },
    {
      "cell_type": "markdown",
      "source": [
        "3. Literals : simbol-simbol yang dapat kita gunakan untuk mengisi suatu variabel"
      ],
      "metadata": {
        "id": "7QnS6kXFAi0I"
      }
    },
    {
      "cell_type": "markdown",
      "source": [
        "4. Operators : Simbol-simbol yang dapat digunakan untuk mengubah nilai dari satu variable\n",
        "dengan melibatkan satu atau lebih variable dan literal\n"
      ],
      "metadata": {
        "id": "QmT78M2bAtRX"
      }
    },
    {
      "cell_type": "code",
      "source": [
        "a + b"
      ],
      "metadata": {
        "colab": {
          "base_uri": "https://localhost:8080/"
        },
        "id": "21Xn5BK2BUsO",
        "outputId": "6d97e8da-73eb-4cd6-d8b1-8d02c459ac47"
      },
      "execution_count": 3,
      "outputs": [
        {
          "output_type": "execute_result",
          "data": {
            "text/plain": [
              "15"
            ]
          },
          "metadata": {},
          "execution_count": 3
        }
      ]
    },
    {
      "cell_type": "markdown",
      "source": [
        "5. Reserved Words : Kumpulan kata-kata yang memiliki makna khusus dalam bahasa\n",
        "pemrograman Phyton. Kata false , return , dan for merupakan contoh dari reserved\n",
        "words."
      ],
      "metadata": {
        "id": "T4TyoEOCBaj-"
      }
    },
    {
      "cell_type": "markdown",
      "source": [
        "6. Whitespace : Pada bahasa Phyton, spasi dan tab memiliki makna khusus untuk menandai\n",
        "serangkaian blok dalam kode Phyton"
      ],
      "metadata": {
        "id": "l0q5BHulBbyG"
      }
    },
    {
      "cell_type": "markdown",
      "source": [
        "7. Comments : Comments merupakan sekumpulan teks yang dituliskan di dalam sebuah\n",
        "program yang tidak akan mempengaruhi hasil dari sebuah pemrograman.\n",
        "Terdapat dua jenis comments di dalam Phyton, yaitu :\n",
        "\n",
        "> a. single line comment (comments dalam satu baris) seperti contoh berikut :\n"
      ],
      "metadata": {
        "id": "pCAV66ERBgtu"
      }
    },
    {
      "cell_type": "code",
      "source": [
        "# Ini adalah Comment\n",
        "print(\"belajar Phyton\")"
      ],
      "metadata": {
        "colab": {
          "base_uri": "https://localhost:8080/"
        },
        "id": "xSJtsFt8BnVO",
        "outputId": "edfa4ae1-4770-48d8-fd39-8bcbc1ceefc3"
      },
      "execution_count": 4,
      "outputs": [
        {
          "output_type": "stream",
          "name": "stdout",
          "text": [
            "belajar Phyton\n"
          ]
        }
      ]
    },
    {
      "cell_type": "markdown",
      "source": [
        "> b. multi line comment (comments dalam beberapa baris) yang dapat dilakukan\n",
        "seperti pada contoh berikut :"
      ],
      "metadata": {
        "id": "WJLyXRsUBo-G"
      }
    },
    {
      "cell_type": "code",
      "source": [
        "'''\n",
        "Ini adalah komentar panjang\n",
        "Bisa digunakan untuk memberikan penjelasan\n",
        "panjang pada Sell Kode Phyton,\n",
        "Misal dokumentasi program, spesifikasi\n",
        "input output atau lainnya\n",
        "'''\n",
        "print('Belajar Phyton menyenangkan')"
      ],
      "metadata": {
        "colab": {
          "base_uri": "https://localhost:8080/"
        },
        "id": "eqnKgaOxBwWu",
        "outputId": "0b80a0e4-e00c-474e-ceea-7aeba903a5fe"
      },
      "execution_count": 5,
      "outputs": [
        {
          "output_type": "stream",
          "name": "stdout",
          "text": [
            "Belajar Phyton menyenangkan\n"
          ]
        }
      ]
    }
  ]
}