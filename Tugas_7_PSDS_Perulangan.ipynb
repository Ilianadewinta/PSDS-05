{
  "nbformat": 4,
  "nbformat_minor": 0,
  "metadata": {
    "colab": {
      "provenance": [],
      "include_colab_link": true
    },
    "kernelspec": {
      "name": "python3",
      "display_name": "Python 3"
    },
    "language_info": {
      "name": "python"
    }
  },
  "cells": [
    {
      "cell_type": "markdown",
      "metadata": {
        "id": "view-in-github",
        "colab_type": "text"
      },
      "source": [
        "<a href=\"https://colab.research.google.com/github/Ilianadewinta/PSDS-05/blob/main/Tugas_7_PSDS_Perulangan.ipynb\" target=\"_parent\"><img src=\"https://colab.research.google.com/assets/colab-badge.svg\" alt=\"Open In Colab\"/></a>"
      ]
    },
    {
      "cell_type": "markdown",
      "source": [
        "Nama : Iliana Dewinta\n",
        "\n",
        "NIM : 2100015054"
      ],
      "metadata": {
        "id": "NEQT70ZpMXLW"
      }
    },
    {
      "cell_type": "markdown",
      "source": [
        "# Looping/Perulangan\n",
        "\n",
        "Python menyediakan 2 statement yaitu for and while. Diantara kedua statement ini, secara umum for lebih banyak digunakan daripada while"
      ],
      "metadata": {
        "id": "JjpZdbbmC-Zl"
      }
    },
    {
      "cell_type": "markdown",
      "source": [
        "## For Loop\n",
        "\n",
        "Perulangan for digunakan untuk melakukan iterasi di dalam sequence seperti list, tuple, string, dan array atau objek yang dapat diiterasi lainnya."
      ],
      "metadata": {
        "id": "q1bNuOVkDMol"
      }
    },
    {
      "cell_type": "markdown",
      "source": [
        "For Loop Syntax\n",
        "```\n",
        "for val in sequence :\n",
        "  loop body\n",
        "  ```\n",
        "\n"
      ],
      "metadata": {
        "id": "rZZdp-Ft6k5D"
      }
    },
    {
      "cell_type": "markdown",
      "source": [
        "For loop Flowchart\n",
        "\n",
        "![images.jpeg](data:image/jpeg;base64,/9j/4AAQSkZJRgABAQAAAQABAAD/2wCEAAkGBwgHBgkIBwgKCgkLDRYPDQwMDRsUFRAWIB0iIiAdHx8kKDQsJCYxJx8fLT0tMTU3Ojo6Iys/RD84QzQ5OjcBCgoKDQwNGg8PGjclHyU3Nzc3Nzc3Nzc3Nzc3Nzc3Nzc3Nzc3Nzc3Nzc3Nzc3Nzc3Nzc3Nzc3Nzc3Nzc3Nzc3N//AABEIAIIAjAMBIgACEQEDEQH/xAAbAAEAAwEBAQEAAAAAAAAAAAAAAwQFAQYCB//EAEAQAAEDAgMDBgsGBQUAAAAAAAEAAgMEEQUSIRMxQRQyM1FhcRUiVHJzkZOy0eHwBjRTgZKiI0LB0vEWUmOhsf/EABQBAQAAAAAAAAAAAAAAAAAAAAD/xAAUEQEAAAAAAAAAAAAAAAAAAAAA/9oADAMBAAIRAxEAPwD9xREQEREBERARFwlAa4OFwbhdWZS1TnYXJPTRvc5rpcrHMLSSHuG4i+8KDwxWCJzn4TU3Y0EhoJubDQaXOpt+RQX6+ujohEZc1pJMgLWk2NieHcoDjdFso5hI4wvzAP2bt7bX0tfj1cCqM2LThjnVWFyFgcRq02G8DeONv++KsMqDI8R+Ds0JALXBni6szaadYtfrsgtQYvQ1EwhhmLnu3fw3AHQnfa24FXl57wjspBP4Gnje7xQ7JYm/Ddv1/Pv0VjwvU2cW4VVFrbW0sXdwt28e3qQbKKnQVctSZNpTSQhhFi/+fuuAbfXYriAiIgIiICIiAiIgLMxOu2d4YT455xH8vzXcTxAU7THG4CQi5dwYFgCphOu2Zrrq4a+tBpUFbyd5a/WJx1H+3tW60hwBaQQdQQvHR1lNKAY6iJwIBFnjjuWnheItiyte8OgdzXA3y/JBvloOh1BTKEBuAoKisp6aRrJ5Wsc5pcM3VcD+oQT2ullFDV080jo4ZmPeznNabkKZByy6iICIiAviaQRROkdfK0XNhdfagrvukvmlA5SPwpvZlOUj8Kb2ZU6IIOUj8Kb2ZVGsxV0YkbHBM1wsGvfHZpv1Hj3LVUcsTJmFkgzNO8IPIVUg2Ur5buDhZ19b30O9Y2WlmLxlq3+K5xc7KSctyOF76L0GLUlRSB2xykno3O3HsPUsnNiuZoLaUg3v4zrDUfX5esKbG0b2NYYKwADUZWG1xrf1nvWpRSMIfCyORgjJ1eAM1yer4KDNi2V2tKSQLc7f26K7SRTyO2ZdtJHOOUAbgg2MJrnsIp3tc9trtyi5b8lfnEFQ5rpqaR5aCBeM7jvXaCjZRxWGr3c53X8la5yClTMpqUuNPSyML+dljOp6z2qxykW6Kb2ZU40RBHTzNnjL2XtmLdRY3BsVIquH9DJ6eT3yrSAiIgKCu+6S+aVOoK77pL5pQToiICIiCOohZUROjlF2leXr6SSjmyP1Yea7r+a9YoKqCKqhMUguDu6wetB5JjXSPDGNLnE2AC9LhtE2jj1s6Zw8Z39AosIoWQRukPjSEuaT1AEjT1LTAsgAda6iICIiCrh/Qyenk98q0quH9DJ6eT3yrSAiIgKCu+6S+aVOoK77pL5pQToi4T1IOoVFUS7GB0hF8o3XWccX11h/f8kFrEuUmAcjsZGuDi29swHC/fZUqd+MCSISQw7NzgZHZ9WjW4HX9b19+F9eg/f8k8MadB+/5IL1D0B9I/3irCw6HEZaen2c7RK/O92dviixcSBbuICn8Mf8H7/kg1UWV4YH4H7/AJKxRV3K3ubs8lhfnXQXUREFXD+hk9PJ75VpVcP6GT08nvlWkBERAUNWx0lPIxgGZzbC5sLqZEFbPWfgQe2P9iZqvyeD25/sVlEGbiLqnkUueGFrbC5bKSd/VlWBLM2NrnvdZrRcnqXqMRifNRSxxDM9w0F7cV56TB6yRjmPpw5rtCC9uo9aDOqqmGSnljbUxsc5p1MlsqzzHUOyhmJMzQ3teY6EC193b/g3J2z9nJMzncgju7nHM3Xv17T6yut+z0zc2WiaMzcpOcajq3oMWQtlleZKuI52Oa1u3Iygka83st9G9qiqWRMdt62KQk6HbZtPzV7/AE3IHOcKCMOda5Dm303cV0fZ2UOa4UEV2iwN26D1oPiGpjmaTFI14G/KbrXwA3nl80f+rPiwOqhvsqRrbi2j29vb2rUwWjqKaaR08eUOaAPGB49iDYREQVcP6GT08nvlWlVw/oZPTye+VaQEREBERAREQEREBEQ7kBFTgE8zS81L23e4Boa3QBxHEdik2M3lcn6W/BBYRV9jN5XJ+lvwTYzeVyfpb8EFhFX2M3lUn6W/BNjN5VJ+lvwQfOH9DJ6eT3yrShpYdhEWZi4lznEm28knh3qZAREQEREBERAREQF8Sysijc+VwYxouXONgF9qvX0jK6lkp5bhjxvB1HFBTwqp5dh8gY9sUuaQWa4OLLudld6rFRxYXVNqGSyYjJI1hFmkEcRfUHW9lJg+CxYWZHMlfK99gS6wsPyWogyKXC56d4HLXuiF/wCHY6kjjr1klROwqvZTlkOIuzNjLWAtIF7WHH679VuIghpY3xQMZI/aOaLFx4qZEQEREBERAREQEREBERAREQEREBERAREQEREBERB//9k=)"
      ],
      "metadata": {
        "id": "jZiIr-4t6ygS"
      }
    },
    {
      "cell_type": "code",
      "source": [
        "# Program untuk menghitung jumlah semua angka dalam sebuah list\n",
        "L1 =[2,4,5,6,9]\n",
        "jumlah = 0\n",
        "\n",
        "# Iterasi dalam list\n",
        "for i in L1:\n",
        "  jumlah = jumlah+i\n",
        "  print(jumlah)"
      ],
      "metadata": {
        "colab": {
          "base_uri": "https://localhost:8080/"
        },
        "id": "SN5MuaW16u-Y",
        "outputId": "49d51744-e9cf-473c-b2b7-6a07aa730486"
      },
      "execution_count": 1,
      "outputs": [
        {
          "output_type": "stream",
          "name": "stdout",
          "text": [
            "2\n",
            "6\n",
            "11\n",
            "17\n",
            "26\n"
          ]
        }
      ]
    },
    {
      "cell_type": "code",
      "source": [
        "# Program untuk menghitung jumlah semua angka dalam sebuah list\n",
        "L1 =[2,4,5,6,9]\n",
        "jumlah = 0\n",
        "\n",
        "# Iterasi dalam list\n",
        "for i in L1:\n",
        "  jumlah = jumlah+i\n",
        "print(jumlah)"
      ],
      "metadata": {
        "colab": {
          "base_uri": "https://localhost:8080/"
        },
        "id": "WQ5XEJCp8Eqc",
        "outputId": "b6c6e0d3-6ef7-4288-8324-e4015a5189fd"
      },
      "execution_count": 2,
      "outputs": [
        {
          "output_type": "stream",
          "name": "stdout",
          "text": [
            "26\n"
          ]
        }
      ]
    },
    {
      "cell_type": "markdown",
      "source": [
        "### The range() function"
      ],
      "metadata": {
        "id": "o60KIaBzDmJy"
      }
    },
    {
      "cell_type": "code",
      "source": [
        "#Program untuk melakukan iterasi di dalam list melalui indeks\n",
        "minuman =[\"teh\",\"boba\",\"kopi\",\"susu\"]\n",
        "p = len(minuman)\n",
        "\n",
        "#iterasi di dalam list melalui indeks\n",
        "for i in range(p):\n",
        "  print(minuman[i])\n"
      ],
      "metadata": {
        "id": "uuoaYQ_0Dqwb",
        "colab": {
          "base_uri": "https://localhost:8080/"
        },
        "outputId": "d76bec3a-90a6-4e60-8cc9-f3b7f6ce522e"
      },
      "execution_count": null,
      "outputs": [
        {
          "output_type": "stream",
          "name": "stdout",
          "text": [
            "teh\n",
            "boba\n",
            "kopi\n",
            "susu\n"
          ]
        }
      ]
    },
    {
      "cell_type": "markdown",
      "source": [
        "### For loop with else"
      ],
      "metadata": {
        "id": "3tSo4z-CDzJb"
      }
    },
    {
      "cell_type": "code",
      "source": [
        "#contoh for loop menggunakan else\n",
        "for i in range(p):\n",
        "  print(minuman[i])\n",
        "else:\n",
        "  print(\"Elemen sudah habis\")"
      ],
      "metadata": {
        "id": "W7eUa2ImEJ0Q",
        "colab": {
          "base_uri": "https://localhost:8080/"
        },
        "outputId": "48e33a8b-6e54-446d-9cd9-26dd3aa679af"
      },
      "execution_count": null,
      "outputs": [
        {
          "output_type": "stream",
          "name": "stdout",
          "text": [
            "teh\n",
            "boba\n",
            "kopi\n",
            "susu\n",
            "Elemen sudah habis\n"
          ]
        }
      ]
    },
    {
      "cell_type": "markdown",
      "source": [
        "### Latihan 1\n",
        "\n",
        "Diberikan list_tagihan. Kamu diminta untuk menghitung jumlah seluruh tagihan.\n",
        "\n",
        "Gunakan looping for untuk menyelesaikan tugas ini. Simpan hasilnya pada variabel total_tagihan"
      ],
      "metadata": {
        "id": "hhqunLww9VWt"
      }
    },
    {
      "cell_type": "code",
      "source": [
        "list_tagihan =[2000,5000,6000,7000,10000]\n",
        "total = 0\n",
        "\n",
        "# Iterasi dalam list\n",
        "for i in list_tagihan:\n",
        "  total = total+i\n",
        "print('Jumlah tagihan sebesar  ',total, 'rupiah')"
      ],
      "metadata": {
        "colab": {
          "base_uri": "https://localhost:8080/"
        },
        "id": "5uvVL6wE-SZr",
        "outputId": "3884a496-7a0f-4bcf-9bf9-b0ef5a15257a"
      },
      "execution_count": 5,
      "outputs": [
        {
          "output_type": "stream",
          "name": "stdout",
          "text": [
            "Jumlah tagihan sebesar   30000 rupiah\n"
          ]
        }
      ]
    },
    {
      "cell_type": "markdown",
      "source": [
        "## While Loop\n",
        "\n",
        "while loop pada python digunakan untuk melakukan iterasi pada blok kode selama nilai dari test expression adalah true.\n",
        "\n",
        "**Syntax of while loop in python**\n",
        "```\n",
        "while test_expression:\n",
        "  Body of while\n",
        "  ```"
      ],
      "metadata": {
        "id": "xeLSKpmlENRG"
      }
    },
    {
      "cell_type": "markdown",
      "source": [
        "While Loop Flowchart\n",
        "\n",
        "![image.png](data:image/png;base64,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)"
      ],
      "metadata": {
        "id": "vnJn6gx3An_K"
      }
    },
    {
      "cell_type": "code",
      "source": [
        "# program untuk menjumlahkan semua bilangan asli hingga suku ke-n\n",
        "# jum=1+2+3+...+n\n",
        "\n",
        "n=10\n",
        "jumlah = 0\n",
        "i = 1\n",
        "\n",
        "while i<= n:\n",
        "  jumlah = jumlah+i\n",
        "  i=i+1\n",
        "print(jumlah)"
      ],
      "metadata": {
        "colab": {
          "base_uri": "https://localhost:8080/"
        },
        "id": "j7by5ZTpAz1w",
        "outputId": "cfcbc193-8354-456a-dd6e-49a7fd74940c"
      },
      "execution_count": null,
      "outputs": [
        {
          "output_type": "stream",
          "name": "stdout",
          "text": [
            "55\n"
          ]
        }
      ]
    },
    {
      "cell_type": "code",
      "source": [
        "while i<= n:\n",
        "  jumlah = jumlah+i\n",
        "  i=i+1\n",
        "  print(jumlah)"
      ],
      "metadata": {
        "id": "Sl0aQwiRBOVj"
      },
      "execution_count": null,
      "outputs": []
    },
    {
      "cell_type": "markdown",
      "source": [
        "### While loop with else\n",
        "\n",
        "sama dengan for loop kita juga dapat mengkombinasikan while dengan blok else.\n",
        "bagian else akan dieksekusi jika nilai pada test expression pada while loop bernilai false. perhatikan contoh berikut:"
      ],
      "metadata": {
        "id": "GzYPv6tdE4OK"
      }
    },
    {
      "cell_type": "code",
      "source": [
        "jum = 0\n",
        "i = 1\n",
        "\n",
        "while i <= n :\n",
        "  jum = jum+i\n",
        "  i = i+1\n",
        "else :\n",
        "  print(jum) #dieksekusi diluar looping"
      ],
      "metadata": {
        "id": "4EVkNUlcFTnU"
      },
      "execution_count": null,
      "outputs": []
    },
    {
      "cell_type": "markdown",
      "source": [
        "### Latihan 2\n",
        "\n",
        "diberikan list tagihan hitunglah total_tagihan menggunakan while loop\n",
        "\n",
        "tagihan =[50000,75000,125000,300000,200000]"
      ],
      "metadata": {
        "id": "LiDrp6aKCHrP"
      }
    },
    {
      "cell_type": "code",
      "source": [
        "tagihan = [50000, 75000, 125000, 300000, 200000]\n",
        "\n",
        "total_tagihan = 0\n",
        "\n",
        "# Menghitung tagihan menggunakan while loop\n",
        "i = 0\n",
        "while i < len(tagihan):\n",
        "    total_tagihan += tagihan[i]\n",
        "    i += 1\n",
        "\n",
        "# Menampilkan total tagihan\n",
        "print(\"Total tagihan sebesar \", total_tagihan, 'rupiah')\n"
      ],
      "metadata": {
        "colab": {
          "base_uri": "https://localhost:8080/"
        },
        "id": "BJhjUgQ8CdgN",
        "outputId": "dab34783-9418-4265-81fc-cf569c03b468"
      },
      "execution_count": 6,
      "outputs": [
        {
          "output_type": "stream",
          "name": "stdout",
          "text": [
            "Total tagihan sebesar  750000 rupiah\n"
          ]
        }
      ]
    },
    {
      "cell_type": "markdown",
      "source": [
        "# Percabangan / Struktur Pemilihan\n",
        "\n",
        "Pada bagian ini kamu akan membuat keputusan pada bahasa pemrograman python menggunakan struktur percabangan/ branching. dengan menggunakan IF ELSE statement. Pengambilan keputusan dibutuhkan ketika kamu akan mengeksekusi suatu kode jika sebuah kondisi tertentu dipenuhi.\n",
        "\n",
        "statement if . . elif . . else digunakan pada bahasa python untuk mengambil keputusan."
      ],
      "metadata": {
        "id": "z07DdCvLFhrH"
      }
    },
    {
      "cell_type": "markdown",
      "source": [
        "## If Statement\n",
        "\n",
        "**Python if statement syntax**\n",
        "````\n",
        "if test_expression:\n",
        "  statemengt(s)\n",
        "\n",
        "````"
      ],
      "metadata": {
        "id": "Js2lW5EcFn1G"
      }
    },
    {
      "cell_type": "markdown",
      "source": [
        "**Python If Statement Flowchart**\n",
        "\n",
        "\n",
        "![image.png](data:image/png;base64,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)"
      ],
      "metadata": {
        "id": "ZpsGSEyuIZLX"
      }
    },
    {
      "cell_type": "code",
      "source": [
        "#Jika angka adalah bilangan positif maka print \"adalah bilangan positif\"\n",
        "\n",
        "angka = 3\n",
        "if angka > 0:\n",
        "  print(angka, \"adalah bilangan positif\")\n",
        "print(\"pernyataan ini selalu ditampilkan\")\n",
        "\n",
        "angka = -1\n",
        "if angka > 0:\n",
        "  print(angka, \"adalah bilangan positif\")\n",
        "print(\"pernyatan ini juga selalu ditampilkan\")"
      ],
      "metadata": {
        "id": "IP8uO1X6FtEX",
        "colab": {
          "base_uri": "https://localhost:8080/"
        },
        "outputId": "768792e3-3423-4b62-ccb9-9c75c9b2e325"
      },
      "execution_count": null,
      "outputs": [
        {
          "output_type": "stream",
          "name": "stdout",
          "text": [
            "3 adalah bilangan positif\n",
            "pernyataan ini selalu ditampilkan\n",
            "pernyatan ini juga selalu ditampilkan\n"
          ]
        }
      ]
    },
    {
      "cell_type": "markdown",
      "source": [
        "## If Else Statement\n",
        "\n",
        "**python if else statement syntax**\n",
        "```\n",
        "if test expression:\n",
        "    body of if\n",
        "else:\n",
        "    body of else\n",
        "```\n"
      ],
      "metadata": {
        "id": "IPJnwqlIF4_R"
      }
    },
    {
      "cell_type": "markdown",
      "source": [
        "Python if else statement flowchart\n",
        "\n",
        "![download.png](data:image/png;base64,iVBORw0KGgoAAAANSUhEUgAAAGcAAACACAMAAAAh3ofxAAAAz1BMVEX////RQ0NSvZT/sCCjpa+WmKTNztPp6uzb3OD4+fnPNDTPNzdKu5DX2Nz29vfx8fK0tr734+OvsLj/rACDzK7rt7f/rhTi4+b/+O/Exsy7vcTQPj5gwZv/sSn/uET/qAB7f47a7+ah2MFtxaIztYaP0bb/z4v/w2v/tDf/7dX/wGL/8d//1qD/x3X/vVf029vZb2/fhobjmprG59m34M9ASGT/47z/58f/yoD/3q+HipdtcYMAGUXAh4zwy8vYZ2fUU1PnqanMHBzRLCvFuL5h9h6qAAAEnUlEQVRoge2aDXOqOBSGo2ACKEJBiUGrFottrd+6Xr3dXfXe/f+/aQ9UW/zCwITOnY6vBZnMJE/OyTlJSEXoJjFSD5UJ48FrlI7V8B9EUzqlUv5UgJqJxHhnKe+oikjMJUoA6ojCzOMwAPLFYNRYCuhRTDQcmVMKr2iZIIM6kTY7nU4l38hXGpVKFCSE04g0OPMbs87M9z3PjzpORMqqUY4/e/S8mTf3Kh3RnAN7fL8EHvPzfqchnFOJjA/ka/CXP4p0ERg0i08fgHtCOAcBd5YjBoMe4jmPwqbS2eVpFKyZi8KARY1LoFJJ6MKA5vmTVS6UJ3xVfZj7lXd1dt++J9aWYymZtv4p/ca5cWBBouUv4Sh/uV/CQYWvwSyk/ldgui3JfqplTak1bUmS7OeXbDE/HEcK5DiZ+q7fkvayB5n5rtazpU/ZzYx893IfxQS+W2WB6duOdCR7KZxSe2odU0LfvYrFvDzbZzCB7xYiMavQZ7YTfMKb/XwffEFh64rvEuxTaoPQmGZ/2H/q9wbdITwMnuDW3PlOvSysE0wMynXa8J419qrfXa2aL81FFx76/eWquwwjo9VTLouxgiVbBR2eroMWEjToNLtDaLvnLIfLXrc37A6Hw5AfOzMQBetYwfCEOTz3Gs5qMDRNGBPnQ0GZxJutPByElufCGowZcs8+fBy0aJ2kKQxNl5fCzUGvJynkOD/4MdwchAaHvrObiWZsfg74LqXPEnLQ6/1+kBw7ic+SchDaTacJfZacg1atFD5LwQHf2XaaSTopB3I21aKTnJNuH3/jfDcOSXXmn5RjYUp0mj3HdJn7M8UbXVIOJYRSkj0HSMkhqTjfLa5vnHScdOd8iXunt9Ocu9A3M2mVt1TnSO24WuW2fCrrTFk76kyVt1ZhX8vgNRZHOWWLsxbZD9qN80dwjPevj9VYDEehMtFdBROMDbhRGek6NMx0xghWr3OCRFBV8rlHUM9zXMx0mTHZhRVYdhljiLkMubLFzIJMjjkKNYniEugSNnTol4wU2B4QizFMFCgwFAKVznEwvGqbiuJShVIGF4a2KAILWcA85pjY1aE3FnTKlJnJTIQthrBZZrqluMFuQbVcAXGAQW7QK+hW0DUW2qNjpJvUMHHQVUWJ5cBgEIOUKaL4aMkXG2+EmeASk7nUYkaWHNOlTMbBsChZcsJ82V9Zci7qxjnk8Nb64JTbBT61o5mh8tb6GbuFTrff+XP3bzfOjfMNORSnAiXmqH+neuHm5oyqO/2zfxglOX7h44wmRW2vzydt/K9QTnmiFXPnVNfWd+I4d5vzlJBUHInilDf1ixiQxmfRdc7ksjWhRTkxnJEWi8nlfleFcKZRc4r1olaHT7SsvhbCiY5OcTqZVtfb9XYaNegX4jjITMTRqpPcZFvcVqebqOP+e6Pkmq7+vzHKqU+ruekEbDoIwd+4fZ1jXOOso5z1Jrepj3OHkf7rqtN4NI3GW/3jFikbC+HcxWZp4Db+SS5W0/gE4gtrHo3jJoR6XdjPoNTxZYuKG94Jm0dbmAXOUrSJ2B9CGtuNVjyWlpuKNGan8t2JxENu4tb/irpyWaLQ7QwAAAAASUVORK5CYII=)"
      ],
      "metadata": {
        "id": "ApmU7QtoHZ-j"
      }
    },
    {
      "cell_type": "code",
      "source": [
        "# Program disusun untuk mengecek apakah angka tersebut kurang dari 0 atau tidak\n",
        "# dan menampilkan tulisan yang sesuai\n",
        "\n",
        "angka = 3\n",
        "if angka >= 0:\n",
        "  print(\"bilangan lebih dari atau sama dengan 0\")\n",
        "else:\n",
        "  print(\"bilangan kurang dari 0\")"
      ],
      "metadata": {
        "id": "C4HKYv0uF7_M",
        "colab": {
          "base_uri": "https://localhost:8080/"
        },
        "outputId": "681736d7-a511-420a-90cb-2baaf4ef67d2"
      },
      "execution_count": null,
      "outputs": [
        {
          "output_type": "stream",
          "name": "stdout",
          "text": [
            "bilangan lebih dari atau sama dengan 0\n"
          ]
        }
      ]
    },
    {
      "cell_type": "code",
      "source": [
        "#Program disusun untuk mengecek apakah dua buah angka sama atau tidak\n",
        "#dan menampilkan tulisan yang sesuai\n",
        "\n",
        "a=5\n",
        "b=5\n",
        "\n",
        "if a==b :\n",
        "  print(\"a dan b bernilai sama\")\n",
        "else:\n",
        "  print(\"a dan b bernilai berbeda\")\n",
        "  print(\"belajar if else\")\n",
        "print(\"belajarrrrrrr\")"
      ],
      "metadata": {
        "colab": {
          "base_uri": "https://localhost:8080/"
        },
        "id": "HFzxjzFaKuS4",
        "outputId": "0ecb57f7-bd16-4747-88ac-0be3d1860368"
      },
      "execution_count": null,
      "outputs": [
        {
          "output_type": "stream",
          "name": "stdout",
          "text": [
            "a dan b bernilai sama\n",
            "belajarrrrrrr\n"
          ]
        }
      ]
    },
    {
      "cell_type": "code",
      "source": [
        "#Program disusun untuk mengecek apakah dua buah angka sama atau tidak\n",
        "#dan menampilkan tulisan yang sesuai\n",
        "\n",
        "a=5\n",
        "b=3\n",
        "\n",
        "if a==b :\n",
        "  print(\"a dan b bernilai sama\")\n",
        "else:\n",
        "  print(\"a dan b bernilai berbeda\")\n",
        "  print(\"belajar if else\")"
      ],
      "metadata": {
        "colab": {
          "base_uri": "https://localhost:8080/"
        },
        "id": "LaySEmzbLOYv",
        "outputId": "a5bd643f-3a5b-4a3f-b778-b254b4ebc999"
      },
      "execution_count": null,
      "outputs": [
        {
          "output_type": "stream",
          "name": "stdout",
          "text": [
            "a dan b bernilai berbeda\n",
            "belajar if else\n"
          ]
        }
      ]
    },
    {
      "cell_type": "code",
      "source": [
        "#program disusun untuk mengecek perbandingan dua buah angka\n",
        "#dan menampilkan tulisan yang sesuai\n",
        "\n",
        "#membaca dua angka\n",
        "bil1 = int(input(\"masukan bilangan pertama:\"))\n",
        "bil2 = int(input(\"masukan bilangan kedua :\"))\n",
        "\n",
        "#memilih bilangan yang lebih besar\n",
        "if bil1>bil2:\n",
        "  bil_lebih_besar = bil1\n",
        "else :\n",
        "  bil_lebih_besar = bil2\n",
        "#menampilkan hasil\n",
        "  print(\"bilangan yang lebih besar adalah :\",bil_lebih_besar)\n",
        "print(\"bilangan yang lebih besar adalah :\",bil_lebih_besar)"
      ],
      "metadata": {
        "colab": {
          "base_uri": "https://localhost:8080/"
        },
        "id": "uLWUlw6rLToz",
        "outputId": "1913adc5-beb8-4976-ef2f-21f5f9f73d5d"
      },
      "execution_count": null,
      "outputs": [
        {
          "output_type": "stream",
          "name": "stdout",
          "text": [
            "masukan bilangan pertama:4\n",
            "masukan bilangan kedua :3\n",
            "bilangan yang lebih besar adalah : 4\n"
          ]
        }
      ]
    },
    {
      "cell_type": "code",
      "source": [
        "#program disusun untuk mengecek perbandingan dua buah angka\n",
        "#dan menampilkan tulisan yang sesuai\n",
        "\n",
        "#membaca dua angka\n",
        "bil1 = int(input(\"masukan bilangan pertama:\"))\n",
        "bil2 = int(input(\"masukan bilangan kedua :\"))\n",
        "\n",
        "#memilih bilangan yang lebih besar\n",
        "if bil1>bil2:\n",
        "  bil_lebih_besar = bil1\n",
        "else :\n",
        "  bil_lebih_besar = bil2\n",
        "#menampilkan hasil\n",
        "  print(\"bilangan yang lebih besar adalah :\",bil_lebih_besar)\n",
        "print(\"bilangan yang lebih besar adalah :\",bil_lebih_besar)"
      ],
      "metadata": {
        "colab": {
          "base_uri": "https://localhost:8080/"
        },
        "id": "MFSb4JuxMQIg",
        "outputId": "d20d3d27-2591-4b06-f432-88c6ee408e3d"
      },
      "execution_count": null,
      "outputs": [
        {
          "output_type": "stream",
          "name": "stdout",
          "text": [
            "masukan bilangan pertama:7\n",
            "masukan bilangan kedua :18\n",
            "bilangan yang lebih besar adalah : 18\n",
            "bilangan yang lebih besar adalah : 18\n"
          ]
        }
      ]
    },
    {
      "cell_type": "markdown",
      "source": [
        "## IF ELIF ELSE Statements\n",
        "\n",
        "**python if elif else statement syntax**\n",
        "\n",
        "```\n",
        "if test expression:\n",
        "  body of if\n",
        "elif text expression:\n",
        "  body of elif\n",
        "else:\n",
        "  body of else\n",
        "  ```\n",
        "**python if elif else statement**\n",
        "![image.png](data:image/png;base64,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)"
      ],
      "metadata": {
        "id": "O4ztcdUgHD_z"
      }
    },
    {
      "cell_type": "code",
      "source": [
        "#Program ini disusun untuk mengecek apakah angka merupakan bilangan positif, negatif, atau nol\n",
        "#dan menampilkan tulisan yang sesuai\n",
        "\n",
        "angka = 4\n",
        "if angka > 0:\n",
        "  print(\"bilangan positif\")\n",
        "elif angka==0:\n",
        "  print(\"NOL\")\n",
        "else :\n",
        "  print(\"bilangan negatif\")"
      ],
      "metadata": {
        "id": "VrlUrAq1INAA",
        "colab": {
          "base_uri": "https://localhost:8080/"
        },
        "outputId": "97fd2b0b-61e2-4592-c292-26ff64d66b43"
      },
      "execution_count": null,
      "outputs": [
        {
          "output_type": "stream",
          "name": "stdout",
          "text": [
            "bilangan positif\n"
          ]
        }
      ]
    },
    {
      "cell_type": "code",
      "source": [
        "#Statement if\n",
        "x = 4\n",
        "if x%2 == 0 : #jika x dibagi 2 sisanya sama dengan 0\n",
        "  print(\"x habis dibagi 2\")\n",
        "\n",
        "#statement if ... elif ... else\n",
        "x=7\n",
        "if x %2 == 0: #jika x dibagi dua sisanya sama dengan 0\n",
        "  print(\"x habis dibagi dua\")\n",
        "elif x%3 == 0: #jika x dibagi 3 sisanya sama dengan 0\n",
        "  print(\"x habis dibagi tiga\")\n",
        "elif x % 5 == 0: #jika x dibagi 5 sisanya sama dengan 0\n",
        "  print(\"x habis dibagi lima\")\n",
        "else :\n",
        "  print(\"x tidak habis dibagi dua, tiga atau lima\")"
      ],
      "metadata": {
        "colab": {
          "base_uri": "https://localhost:8080/"
        },
        "id": "acRLc__BNjWs",
        "outputId": "535b3aba-3a7b-40e2-cd2e-d6ab36124519"
      },
      "execution_count": null,
      "outputs": [
        {
          "output_type": "stream",
          "name": "stdout",
          "text": [
            "x habis dibagi 2\n",
            "x tidak habis dibagi dua, tiga atau lima\n"
          ]
        }
      ]
    },
    {
      "cell_type": "markdown",
      "source": [
        "## Nasted If Statement"
      ],
      "metadata": {
        "id": "UyFKTCt0Iz7v"
      }
    },
    {
      "cell_type": "code",
      "source": [
        "# Program disusun untuk mengecek apakah angka merupakan bilangan positif, negatif atau nol\n",
        "#dan menampilkan tulisan yang sesuai\n",
        "\n",
        "angka = float(input(\"massukan angka :\"))\n",
        "if angka >= 0:\n",
        "  if angka ==0:\n",
        "    print(\"Nol\")\n",
        "  else:\n",
        "    print(\"Bilangan Positif\")\n",
        "else:\n",
        "  print(\"bilangan negatif\")\n"
      ],
      "metadata": {
        "id": "LCApOTZsI216",
        "colab": {
          "base_uri": "https://localhost:8080/"
        },
        "outputId": "b64e8c0a-88a3-49a3-bc71-2e6b1b685731"
      },
      "execution_count": null,
      "outputs": [
        {
          "output_type": "stream",
          "name": "stdout",
          "text": [
            "massukan angka :7\n",
            "Bilangan Positif\n"
          ]
        }
      ]
    },
    {
      "cell_type": "code",
      "source": [
        "# Program disusun untuk mengecek apakah angka merupakan bilangan positif, negatif atau nol\n",
        "#dan menampilkan tulisan yang sesuai\n",
        "\n",
        "angka = float(input(\"massukan angka :\"))\n",
        "if angka >= 0:\n",
        "  if angka ==0:\n",
        "    print(\"Nol\")\n",
        "  else:\n",
        "    print(\"Bilangan Positif\")\n",
        "else:\n",
        "  print(\"bilangan negatif\")\n"
      ],
      "metadata": {
        "colab": {
          "base_uri": "https://localhost:8080/"
        },
        "id": "1MXMJkrgQRPh",
        "outputId": "58b1e341-289c-4226-e0eb-0931aa955340"
      },
      "execution_count": null,
      "outputs": [
        {
          "output_type": "stream",
          "name": "stdout",
          "text": [
            "massukan angka :-7\n",
            "bilangan negatif\n"
          ]
        }
      ]
    },
    {
      "cell_type": "code",
      "source": [
        "# Program disusun untuk mengecek apakah angka merupakan bilangan positif, negatif atau nol\n",
        "#dan menampilkan tulisan yang sesuai\n",
        "\n",
        "angka = float(input(\"massukan angka :\"))\n",
        "if angka >= 0:\n",
        "  if angka ==0:\n",
        "    print(\"Nol\")\n",
        "  else:\n",
        "    print(\"Bilangan Positif\")\n",
        "else:\n",
        "  print(\"bilangan negatif\")\n"
      ],
      "metadata": {
        "colab": {
          "base_uri": "https://localhost:8080/"
        },
        "id": "r8LQmWr3QX4o",
        "outputId": "ecd0ad05-79ba-4d6e-f1e6-f2e006eaf2ed"
      },
      "execution_count": null,
      "outputs": [
        {
          "output_type": "stream",
          "name": "stdout",
          "text": [
            "massukan angka :0\n",
            "Nol\n"
          ]
        }
      ]
    },
    {
      "cell_type": "markdown",
      "source": [
        "### Latihan 3\n",
        "\n",
        "Buatlah sebuah fungsi \"mahal_diskon\" dengan ketentuan:\n",
        "\n",
        "\n",
        "\n",
        "*   Input berupa data harga produk dengan tipe data numerik tunggal\n",
        "*   Kategori input adalah \"murah\" dan \"mahal\", kemudian diskon ada 3 kategori \"10 %\", \"20%\", dan \"40%\"\n",
        "*   Output pertama sebuah teks/string yang menyatakan \"mahal\" atau \"murah\" dan keterangan \"kamu dapat diskon...\"\n",
        "*   Output kedua adalah harga yang perlu dibayarkan\n",
        "\n",
        "\n",
        "\n"
      ],
      "metadata": {
        "id": "EYSMvzE_Qa5S"
      }
    },
    {
      "cell_type": "code",
      "source": [
        "def mahal_diskon (harga):\n",
        "  if harga > 100000 :\n",
        "    diskon = (40/100)*harga\n",
        "    print ('Harga Mahal. Anda mendapatkan diskon sebesar : ', diskon)\n",
        "  elif harga > 50000 :\n",
        "    diskon = (20/100)*harga\n",
        "    print ('Harga Mahal. Anda mendapatkan diskon sebesar :' , diskon)\n",
        "  else :\n",
        "    diskon = (10/100)*harga\n",
        "    print ('Harga Murah. Anda mendapatkan diskon sebesar : ', diskon)\n",
        "  total = harga - diskon\n",
        "  print('Total yang harus dibayarkan adalah sebesar :', total)\n",
        "\n",
        "#Contoh penggunaan fungsi\n",
        "mahal_diskon (200000)"
      ],
      "metadata": {
        "colab": {
          "base_uri": "https://localhost:8080/"
        },
        "id": "NWFwIbDLN_t0",
        "outputId": "1255956c-e248-4db2-b089-02c2ad179342"
      },
      "execution_count": 10,
      "outputs": [
        {
          "output_type": "stream",
          "name": "stdout",
          "text": [
            "Harga Mahal. Anda mendapatkan diskon sebesar :  80000.0\n",
            "Total yang harus dibayarkan adalah sebesar : 120000.0\n"
          ]
        }
      ]
    },
    {
      "cell_type": "code",
      "source": [
        "mahal_diskon (30000)"
      ],
      "metadata": {
        "colab": {
          "base_uri": "https://localhost:8080/"
        },
        "id": "rQPr2v12QG8w",
        "outputId": "56de89fc-bb8d-4ce6-c7a3-afe4cc9f6cde"
      },
      "execution_count": 11,
      "outputs": [
        {
          "output_type": "stream",
          "name": "stdout",
          "text": [
            "Harga Murah. Anda mendapatkan diskon sebesar :  3000.0\n",
            "Total yang harus dibayarkan adalah sebesar : 27000.0\n"
          ]
        }
      ]
    }
  ]
}